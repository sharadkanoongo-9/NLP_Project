{
 "cells": [
  {
   "cell_type": "code",
   "execution_count": 1,
   "metadata": {
    "id": "VRqocKoORkST"
   },
   "outputs": [],
   "source": [
    "import pandas as pd \n",
    "import numpy as np"
   ]
  },
  {
   "cell_type": "code",
   "execution_count": 3,
   "metadata": {
    "colab": {
     "base_uri": "https://localhost:8080/",
     "height": 206
    },
    "id": "GFA69NsrVzVz",
    "outputId": "43020c21-12b5-42f4-91f7-6853ae0e491c"
   },
   "outputs": [
    {
     "data": {
      "text/html": [
       "<div>\n",
       "<style scoped>\n",
       "    .dataframe tbody tr th:only-of-type {\n",
       "        vertical-align: middle;\n",
       "    }\n",
       "\n",
       "    .dataframe tbody tr th {\n",
       "        vertical-align: top;\n",
       "    }\n",
       "\n",
       "    .dataframe thead th {\n",
       "        text-align: right;\n",
       "    }\n",
       "</style>\n",
       "<table border=\"1\" class=\"dataframe\">\n",
       "  <thead>\n",
       "    <tr style=\"text-align: right;\">\n",
       "      <th></th>\n",
       "      <th>rating</th>\n",
       "      <th>review_text</th>\n",
       "    </tr>\n",
       "  </thead>\n",
       "  <tbody>\n",
       "    <tr>\n",
       "      <th>0</th>\n",
       "      <td>1.0</td>\n",
       "      <td>Their service is worst, pricing in menu is dif...</td>\n",
       "    </tr>\n",
       "    <tr>\n",
       "      <th>1</th>\n",
       "      <td>5.0</td>\n",
       "      <td>really appreciate their quality and timing . I...</td>\n",
       "    </tr>\n",
       "    <tr>\n",
       "      <th>2</th>\n",
       "      <td>4.0</td>\n",
       "      <td>Went there on a Friday night, the place was su...</td>\n",
       "    </tr>\n",
       "    <tr>\n",
       "      <th>3</th>\n",
       "      <td>4.0</td>\n",
       "      <td>A very decent place serving good food.\\r\\nOrde...</td>\n",
       "    </tr>\n",
       "    <tr>\n",
       "      <th>4</th>\n",
       "      <td>5.0</td>\n",
       "      <td>One of the BEST places for steaks in the city....</td>\n",
       "    </tr>\n",
       "  </tbody>\n",
       "</table>\n",
       "</div>"
      ],
      "text/plain": [
       "   rating                                        review_text\n",
       "0     1.0  Their service is worst, pricing in menu is dif...\n",
       "1     5.0  really appreciate their quality and timing . I...\n",
       "2     4.0  Went there on a Friday night, the place was su...\n",
       "3     4.0  A very decent place serving good food.\\r\\nOrde...\n",
       "4     5.0  One of the BEST places for steaks in the city...."
      ]
     },
     "execution_count": 3,
     "metadata": {},
     "output_type": "execute_result"
    }
   ],
   "source": [
    " df = pd.read_csv(\"C:\\\\Users\\\\user\\\\Desktop\\\\DS\\\\mini project\\\\TA&NLP-Mini Project\\\\Zomato_reviews.csv\")\n",
    "df.head()"
   ]
  },
  {
   "cell_type": "code",
   "execution_count": 4,
   "metadata": {
    "colab": {
     "base_uri": "https://localhost:8080/"
    },
    "id": "_hV_2XhDRkal",
    "outputId": "fa60d2df-1e37-4e60-9dba-07f9c0fec614"
   },
   "outputs": [
    {
     "data": {
      "text/plain": [
       "(27762, 2)"
      ]
     },
     "execution_count": 4,
     "metadata": {},
     "output_type": "execute_result"
    }
   ],
   "source": [
    "df.shape"
   ]
  },
  {
   "cell_type": "code",
   "execution_count": 5,
   "metadata": {
    "colab": {
     "base_uri": "https://localhost:8080/",
     "height": 394
    },
    "id": "nTKr77HvRklv",
    "outputId": "33047b4b-9877-4c13-a85b-8d4c35e12af9"
   },
   "outputs": [
    {
     "data": {
      "text/html": [
       "<div>\n",
       "<style scoped>\n",
       "    .dataframe tbody tr th:only-of-type {\n",
       "        vertical-align: middle;\n",
       "    }\n",
       "\n",
       "    .dataframe tbody tr th {\n",
       "        vertical-align: top;\n",
       "    }\n",
       "\n",
       "    .dataframe thead th {\n",
       "        text-align: right;\n",
       "    }\n",
       "</style>\n",
       "<table border=\"1\" class=\"dataframe\">\n",
       "  <thead>\n",
       "    <tr style=\"text-align: right;\">\n",
       "      <th></th>\n",
       "      <th>rating</th>\n",
       "      <th>review_text</th>\n",
       "    </tr>\n",
       "  </thead>\n",
       "  <tbody>\n",
       "    <tr>\n",
       "      <th>count</th>\n",
       "      <td>27762.000000</td>\n",
       "      <td>27748</td>\n",
       "    </tr>\n",
       "    <tr>\n",
       "      <th>unique</th>\n",
       "      <td>NaN</td>\n",
       "      <td>10548</td>\n",
       "    </tr>\n",
       "    <tr>\n",
       "      <th>top</th>\n",
       "      <td>NaN</td>\n",
       "      <td>good</td>\n",
       "    </tr>\n",
       "    <tr>\n",
       "      <th>freq</th>\n",
       "      <td>NaN</td>\n",
       "      <td>278</td>\n",
       "    </tr>\n",
       "    <tr>\n",
       "      <th>mean</th>\n",
       "      <td>3.665784</td>\n",
       "      <td>NaN</td>\n",
       "    </tr>\n",
       "    <tr>\n",
       "      <th>std</th>\n",
       "      <td>1.284573</td>\n",
       "      <td>NaN</td>\n",
       "    </tr>\n",
       "    <tr>\n",
       "      <th>min</th>\n",
       "      <td>1.000000</td>\n",
       "      <td>NaN</td>\n",
       "    </tr>\n",
       "    <tr>\n",
       "      <th>25%</th>\n",
       "      <td>3.000000</td>\n",
       "      <td>NaN</td>\n",
       "    </tr>\n",
       "    <tr>\n",
       "      <th>50%</th>\n",
       "      <td>4.000000</td>\n",
       "      <td>NaN</td>\n",
       "    </tr>\n",
       "    <tr>\n",
       "      <th>75%</th>\n",
       "      <td>5.000000</td>\n",
       "      <td>NaN</td>\n",
       "    </tr>\n",
       "    <tr>\n",
       "      <th>max</th>\n",
       "      <td>5.000000</td>\n",
       "      <td>NaN</td>\n",
       "    </tr>\n",
       "  </tbody>\n",
       "</table>\n",
       "</div>"
      ],
      "text/plain": [
       "              rating review_text\n",
       "count   27762.000000       27748\n",
       "unique           NaN       10548\n",
       "top              NaN        good\n",
       "freq             NaN         278\n",
       "mean        3.665784         NaN\n",
       "std         1.284573         NaN\n",
       "min         1.000000         NaN\n",
       "25%         3.000000         NaN\n",
       "50%         4.000000         NaN\n",
       "75%         5.000000         NaN\n",
       "max         5.000000         NaN"
      ]
     },
     "execution_count": 5,
     "metadata": {},
     "output_type": "execute_result"
    }
   ],
   "source": [
    "df.describe(include=\"all\")"
   ]
  },
  {
   "cell_type": "code",
   "execution_count": 6,
   "metadata": {
    "id": "RPfDOlvxVrBU"
   },
   "outputs": [],
   "source": [
    "df1 = df[~df.review_text.isnull()].copy()"
   ]
  },
  {
   "cell_type": "code",
   "execution_count": 7,
   "metadata": {
    "id": "2SRVSjBQV935"
   },
   "outputs": [],
   "source": [
    "df1.reset_index(inplace=True, drop=True)"
   ]
  },
  {
   "cell_type": "code",
   "execution_count": 8,
   "metadata": {
    "colab": {
     "base_uri": "https://localhost:8080/"
    },
    "id": "MPr78PurRkoX",
    "outputId": "12ba9395-1dbe-43e6-defb-e53b6da30838"
   },
   "outputs": [
    {
     "data": {
      "text/plain": [
       "((27762, 2), (27748, 2))"
      ]
     },
     "execution_count": 8,
     "metadata": {},
     "output_type": "execute_result"
    }
   ],
   "source": [
    "df.shape, df1.shape"
   ]
  },
  {
   "cell_type": "code",
   "execution_count": 9,
   "metadata": {
    "colab": {
     "base_uri": "https://localhost:8080/"
    },
    "id": "zdpy8bZcWo2g",
    "outputId": "169e9085-017a-4d71-eae9-89d3d83552ba"
   },
   "outputs": [
    {
     "data": {
      "text/plain": [
       "27748"
      ]
     },
     "execution_count": 9,
     "metadata": {},
     "output_type": "execute_result"
    }
   ],
   "source": [
    "df_list = df1.review_text.values\n",
    "len(df_list)"
   ]
  },
  {
   "cell_type": "markdown",
   "metadata": {
    "id": "0PzMhqc_WH0g"
   },
   "source": [
    "3. Perform cleanup on the data"
   ]
  },
  {
   "cell_type": "markdown",
   "metadata": {
    "id": "RkMF1iWtWU2v"
   },
   "source": [
    "a. Normalize the casing \n"
   ]
  },
  {
   "cell_type": "code",
   "execution_count": 10,
   "metadata": {
    "id": "vv5Zl3DnUW7_"
   },
   "outputs": [],
   "source": [
    "df_lower = [txt.lower() for txt in df_list]"
   ]
  },
  {
   "cell_type": "code",
   "execution_count": 11,
   "metadata": {
    "colab": {
     "base_uri": "https://localhost:8080/"
    },
    "id": "qjVr0hZEUXKY",
    "outputId": "db815e64-0ebe-4858-8fda-16a65753fa73"
   },
   "outputs": [
    {
     "data": {
      "text/plain": [
       "['went there on a friday night, the place was surprisingly empty. interesting menu which is almost fully made of dosas. i had bullseye dosa and cheese masala dosa. the bullseye dosa was really good, with the egg perfectly cooked to a half boiled state. the masala in the cheese masala was good, but the cheese was a bit too chewy for my liking. the chutney was good, the sambar was average. the dishes are reasonably priced.',\n",
       " 'a very decent place serving good food.\\r\\nordered chilli fish, chicken & pork sizzler.\\r\\neverything tasted good but pork could have been slightly better cooked.\\r\\ntried 2 beverages, both were very sweet.']"
      ]
     },
     "execution_count": 11,
     "metadata": {},
     "output_type": "execute_result"
    }
   ],
   "source": [
    "df_lower[2:4]"
   ]
  },
  {
   "cell_type": "markdown",
   "metadata": {
    "id": "8m3Mn-KwX47j"
   },
   "source": [
    " \n",
    "b. Remove extra line breaks from the text"
   ]
  },
  {
   "cell_type": "code",
   "execution_count": 12,
   "metadata": {
    "id": "aWRB9S7AUXNe"
   },
   "outputs": [],
   "source": [
    "df_lower = [\" \".join(txt.split()) for txt in df_lower]"
   ]
  },
  {
   "cell_type": "code",
   "execution_count": 13,
   "metadata": {
    "colab": {
     "base_uri": "https://localhost:8080/"
    },
    "id": "MrTTvLqeYBge",
    "outputId": "438d5467-8a81-4bf6-875d-5b238130433e"
   },
   "outputs": [
    {
     "data": {
      "text/plain": [
       "['went there on a friday night, the place was surprisingly empty. interesting menu which is almost fully made of dosas. i had bullseye dosa and cheese masala dosa. the bullseye dosa was really good, with the egg perfectly cooked to a half boiled state. the masala in the cheese masala was good, but the cheese was a bit too chewy for my liking. the chutney was good, the sambar was average. the dishes are reasonably priced.',\n",
       " 'a very decent place serving good food. ordered chilli fish, chicken & pork sizzler. everything tasted good but pork could have been slightly better cooked. tried 2 beverages, both were very sweet.']"
      ]
     },
     "execution_count": 13,
     "metadata": {},
     "output_type": "execute_result"
    }
   ],
   "source": [
    "df_lower[2:4]"
   ]
  },
  {
   "cell_type": "code",
   "execution_count": null,
   "metadata": {
    "id": "gOeNmffOYBjI"
   },
   "outputs": [],
   "source": []
  },
  {
   "cell_type": "code",
   "execution_count": 14,
   "metadata": {
    "id": "f2TO7b3DYBl5"
   },
   "outputs": [],
   "source": [
    "from nltk.tokenize import word_tokenize"
   ]
  },
  {
   "cell_type": "code",
   "execution_count": 15,
   "metadata": {
    "colab": {
     "base_uri": "https://localhost:8080/"
    },
    "id": "6eJ2jYueY0YX",
    "outputId": "05a535ab-d124-4742-bbd4-9012a50d4cdc"
   },
   "outputs": [
    {
     "name": "stderr",
     "output_type": "stream",
     "text": [
      "[nltk_data] Downloading package punkt to\n",
      "[nltk_data]     C:\\Users\\user\\AppData\\Roaming\\nltk_data...\n",
      "[nltk_data]   Package punkt is already up-to-date!\n"
     ]
    },
    {
     "data": {
      "text/plain": [
       "True"
      ]
     },
     "execution_count": 15,
     "metadata": {},
     "output_type": "execute_result"
    }
   ],
   "source": [
    "import nltk\n",
    "nltk.download('punkt')"
   ]
  },
  {
   "cell_type": "code",
   "execution_count": 16,
   "metadata": {
    "colab": {
     "base_uri": "https://localhost:8080/"
    },
    "id": "Otc6j75jYBo2",
    "outputId": "ea7fbf0b-d218-46e3-c9a9-1a07675a44c3"
   },
   "outputs": [
    {
     "name": "stdout",
     "output_type": "stream",
     "text": [
      "['their', 'service', 'is', 'worst', ',', 'pricing', 'in', 'menu', 'is', 'different', 'from', 'bill', '.', 'they', 'can', 'give', 'you', 'a', 'bill', 'with', 'increased', 'pricing', '.', 'even', 'for', 'serving', 'water', ',', 'menu', ',', 'order', 'you', 'need', 'to', 'call', 'them', '3-4', 'times', 'even', 'on', 'a', 'non', 'busy', 'day', '.']\n"
     ]
    }
   ],
   "source": [
    "print(word_tokenize(df_lower[0]))"
   ]
  },
  {
   "cell_type": "code",
   "execution_count": 17,
   "metadata": {
    "colab": {
     "base_uri": "https://localhost:8080/"
    },
    "id": "sRXuR9BTYnjP",
    "outputId": "511ee86e-d2b5-42e8-d52e-05c4ba774e9a"
   },
   "outputs": [
    {
     "name": "stdout",
     "output_type": "stream",
     "text": [
      "['their', 'service', 'is', 'worst', ',', 'pricing', 'in', 'menu', 'is', 'different', 'from', 'bill', '.', 'they', 'can', 'give', 'you', 'a', 'bill', 'with', 'increased', 'pricing', '.', 'even', 'for', 'serving', 'water', ',', 'menu', ',', 'order', 'you', 'need', 'to', 'call', 'them', '3-4', 'times', 'even', 'on', 'a', 'non', 'busy', 'day', '.']\n"
     ]
    }
   ],
   "source": [
    "df_tokens = [word_tokenize(sent) for sent in df_lower]\n",
    "print(df_tokens[0])"
   ]
  },
  {
   "cell_type": "markdown",
   "metadata": {
    "id": "KyMnmBBLZk04"
   },
   "source": [
    "c. Remove stop words\n",
    "\n",
    "d. Remove punctuation"
   ]
  },
  {
   "cell_type": "code",
   "execution_count": 20,
   "metadata": {
    "colab": {
     "base_uri": "https://localhost:8080/"
    },
    "id": "x8TwDgH7Ynwm",
    "outputId": "a0548fc5-69a2-47cf-ab9f-0b5eb2d117e3"
   },
   "outputs": [
    {
     "name": "stderr",
     "output_type": "stream",
     "text": [
      "[nltk_data] Downloading package stopwords to\n",
      "[nltk_data]     C:\\Users\\user\\AppData\\Roaming\\nltk_data...\n",
      "[nltk_data]   Package stopwords is already up-to-date!\n"
     ]
    },
    {
     "data": {
      "text/plain": [
       "True"
      ]
     },
     "execution_count": 20,
     "metadata": {},
     "output_type": "execute_result"
    }
   ],
   "source": [
    "from nltk.corpus import stopwords\n",
    "nltk.download('stopwords')"
   ]
  },
  {
   "cell_type": "code",
   "execution_count": 21,
   "metadata": {
    "id": "Bny0vIEFbuZL"
   },
   "outputs": [],
   "source": [
    "from string import punctuation"
   ]
  },
  {
   "cell_type": "code",
   "execution_count": 22,
   "metadata": {
    "id": "DiOFmrDWZupv"
   },
   "outputs": [],
   "source": [
    "df_nltk = stopwords.words(\"english\")"
   ]
  },
  {
   "cell_type": "code",
   "execution_count": 23,
   "metadata": {
    "id": "L27lFP8Wby5v"
   },
   "outputs": [],
   "source": [
    "df_punct = list(punctuation)"
   ]
  },
  {
   "cell_type": "code",
   "execution_count": 24,
   "metadata": {
    "colab": {
     "base_uri": "https://localhost:8080/"
    },
    "id": "K4htwapjZusc",
    "outputId": "f19eb743-6050-45f8-b508-3affff81b013"
   },
   "outputs": [
    {
     "name": "stdout",
     "output_type": "stream",
     "text": [
      "['i', 'me', 'my', 'myself', 'we', 'our', 'ours', 'ourselves', 'you', \"you're\", \"you've\", \"you'll\", \"you'd\", 'your', 'yours', 'yourself', 'yourselves', 'he', 'him', 'his', 'himself', 'she', \"she's\", 'her', 'hers', 'herself', 'it', \"it's\", 'its', 'itself', 'they', 'them', 'their', 'theirs', 'themselves', 'what', 'which', 'who', 'whom', 'this', 'that', \"that'll\", 'these', 'those', 'am', 'is', 'are', 'was', 'were', 'be', 'been', 'being', 'have', 'has', 'had', 'having', 'do', 'does', 'did', 'doing', 'a', 'an', 'the', 'and', 'but', 'if', 'or', 'because', 'as', 'until', 'while', 'of', 'at', 'by', 'for', 'with', 'about', 'against', 'between', 'into', 'through', 'during', 'before', 'after', 'above', 'below', 'to', 'from', 'up', 'down', 'in', 'out', 'on', 'off', 'over', 'under', 'again', 'further', 'then', 'once', 'here', 'there', 'when', 'where', 'why', 'how', 'all', 'any', 'both', 'each', 'few', 'more', 'most', 'other', 'some', 'such', 'no', 'nor', 'not', 'only', 'own', 'same', 'so', 'than', 'too', 'very', 's', 't', 'can', 'will', 'just', 'don', \"don't\", 'should', \"should've\", 'now', 'd', 'll', 'm', 'o', 're', 've', 'y', 'ain', 'aren', \"aren't\", 'couldn', \"couldn't\", 'didn', \"didn't\", 'doesn', \"doesn't\", 'hadn', \"hadn't\", 'hasn', \"hasn't\", 'haven', \"haven't\", 'isn', \"isn't\", 'ma', 'mightn', \"mightn't\", 'mustn', \"mustn't\", 'needn', \"needn't\", 'shan', \"shan't\", 'shouldn', \"shouldn't\", 'wasn', \"wasn't\", 'weren', \"weren't\", 'won', \"won't\", 'wouldn', \"wouldn't\"]\n"
     ]
    }
   ],
   "source": [
    "print(df_nltk)"
   ]
  },
  {
   "cell_type": "code",
   "execution_count": 25,
   "metadata": {
    "id": "46doXQ4-Zu5s"
   },
   "outputs": [],
   "source": [
    "df_nltk.remove(\"no\")\n",
    "df_nltk.remove(\"not\")\n",
    "df_nltk.remove(\"don\")\n",
    "df_nltk.remove(\"won\")"
   ]
  },
  {
   "cell_type": "code",
   "execution_count": 26,
   "metadata": {
    "id": "DvEtiEWgwtPc"
   },
   "outputs": [],
   "source": [
    "df_final = df_nltk + df_punct + [\"...\", \"``\",\"''\", \"====\", \"must\"]"
   ]
  },
  {
   "cell_type": "code",
   "execution_count": 27,
   "metadata": {
    "id": "hmrvak6owtSL"
   },
   "outputs": [],
   "source": [
    "def del_stop(sent):\n",
    "    return [term for term in sent if term not in df_final]"
   ]
  },
  {
   "cell_type": "code",
   "execution_count": 28,
   "metadata": {
    "colab": {
     "base_uri": "https://localhost:8080/"
    },
    "id": "qWcznSw0wtUx",
    "outputId": "8d08bc68-1838-445c-cd74-8ae2ee5bd87a"
   },
   "outputs": [
    {
     "data": {
      "text/plain": [
       "['really',\n",
       " 'appreciate',\n",
       " 'quality',\n",
       " 'timing',\n",
       " 'tried',\n",
       " 'thattil',\n",
       " 'kutti',\n",
       " 'dosa',\n",
       " \"'ve\",\n",
       " 'addicted',\n",
       " 'dosa',\n",
       " 'really',\n",
       " 'chutney',\n",
       " 'really',\n",
       " 'good',\n",
       " 'money',\n",
       " 'worth',\n",
       " 'much',\n",
       " 'better',\n",
       " 'thattukada',\n",
       " 'try']"
      ]
     },
     "execution_count": 28,
     "metadata": {},
     "output_type": "execute_result"
    }
   ],
   "source": [
    "del_stop(df_tokens[1])"
   ]
  },
  {
   "cell_type": "code",
   "execution_count": 29,
   "metadata": {
    "id": "zKLQlqQ6wtXV"
   },
   "outputs": [],
   "source": [
    "df_clean = [del_stop(sent) for sent in df_tokens]"
   ]
  },
  {
   "cell_type": "code",
   "execution_count": 30,
   "metadata": {
    "colab": {
     "base_uri": "https://localhost:8080/"
    },
    "id": "06rFkVxtwtaP",
    "outputId": "d74dbfea-cf80-4c3a-cd24-a1b904a00769"
   },
   "outputs": [
    {
     "data": {
      "text/plain": [
       "['service worst pricing menu different bill give bill increased pricing even serving water menu order need call 3-4 times even non busy day',\n",
       " \"really appreciate quality timing tried thattil kutti dosa 've addicted dosa really chutney really good money worth much better thattukada try\"]"
      ]
     },
     "execution_count": 30,
     "metadata": {},
     "output_type": "execute_result"
    }
   ],
   "source": [
    "df_clean = [\" \".join(sent) for sent in df_clean]\n",
    "df_clean[:2]"
   ]
  },
  {
   "cell_type": "markdown",
   "metadata": {
    "id": "vDNuAyz8yeY1"
   },
   "source": [
    "#4. Separation into train and test sets \n",
    "\n",
    "a. Use train-test method to divide your data into 2 sets: train and test\n",
    "\n",
    "b. Use a 70-30 split\n"
   ]
  },
  {
   "cell_type": "code",
   "execution_count": 31,
   "metadata": {
    "id": "t4NzJ-odyohE"
   },
   "outputs": [],
   "source": [
    "X = df_clean\n",
    "y = df1.rating"
   ]
  },
  {
   "cell_type": "code",
   "execution_count": 32,
   "metadata": {
    "id": "C6UgJ6UIyokK"
   },
   "outputs": [],
   "source": [
    "from sklearn.model_selection import train_test_split\n",
    "X_train, X_test, y_train, y_test = train_test_split(X, y, test_size = 0.30, random_state=42)"
   ]
  },
  {
   "cell_type": "markdown",
   "metadata": {
    "id": "oap6H3IQzar9"
   },
   "source": [
    "#5. Use TF-IDF values for the terms as features to get into a vector space model \n",
    "\n",
    "a. Import TF-IDF vectorizer from sklearn \n",
    "\n",
    "b. Instantiate with a maximum of 5000 terms in your vocabulary \n",
    "\n",
    "c. Fit and apply on the train set \n",
    "\n",
    "d. Apply on the test set \n"
   ]
  },
  {
   "cell_type": "code",
   "execution_count": 33,
   "metadata": {
    "id": "6W2OEiKGyonM"
   },
   "outputs": [],
   "source": [
    "from sklearn.feature_extraction.text import TfidfVectorizer"
   ]
  },
  {
   "cell_type": "code",
   "execution_count": 34,
   "metadata": {
    "id": "XSa5PdJWyop9"
   },
   "outputs": [],
   "source": [
    "vectorizer = TfidfVectorizer(max_features = 5000)"
   ]
  },
  {
   "cell_type": "code",
   "execution_count": 35,
   "metadata": {
    "colab": {
     "base_uri": "https://localhost:8080/"
    },
    "id": "kCNCEII4yos6",
    "outputId": "c87eaf1c-e501-4201-a490-02c7c225674a"
   },
   "outputs": [
    {
     "data": {
      "text/plain": [
       "(19423, 8325)"
      ]
     },
     "execution_count": 35,
     "metadata": {},
     "output_type": "execute_result"
    }
   ],
   "source": [
    "len(X_train), len(X_test)"
   ]
  },
  {
   "cell_type": "code",
   "execution_count": 36,
   "metadata": {
    "id": "rCZfBtf2yovj"
   },
   "outputs": [],
   "source": [
    "X_train_bow = vectorizer.fit_transform(X_train)"
   ]
  },
  {
   "cell_type": "code",
   "execution_count": 37,
   "metadata": {
    "id": "JxsMDpO0yoyZ"
   },
   "outputs": [],
   "source": [
    "X_test_bow = vectorizer.transform(X_test)"
   ]
  },
  {
   "cell_type": "code",
   "execution_count": 38,
   "metadata": {
    "colab": {
     "base_uri": "https://localhost:8080/"
    },
    "id": "8h_JKC9eyo1P",
    "outputId": "24baa20e-e48f-40f6-c491-2d4b55b70e3d"
   },
   "outputs": [
    {
     "data": {
      "text/plain": [
       "((19423, 5000), (8325, 5000))"
      ]
     },
     "execution_count": 38,
     "metadata": {},
     "output_type": "execute_result"
    }
   ],
   "source": [
    "X_train_bow.shape, X_test_bow.shape"
   ]
  },
  {
   "cell_type": "markdown",
   "metadata": {
    "id": "J28UtoO30GAL"
   },
   "source": [
    "#6. Model building: Random Forest Regressor \n",
    "\n",
    "a. Instantiate RandomForestRegressor from sklearn (set random seed) \n",
    "\n",
    "b. Fit on the train data \n",
    "\n",
    "c. Make predictions for the train set"
   ]
  },
  {
   "cell_type": "code",
   "execution_count": 39,
   "metadata": {
    "id": "v0crWoEHyo4k"
   },
   "outputs": [],
   "source": [
    "from sklearn.ensemble import RandomForestRegressor"
   ]
  },
  {
   "cell_type": "code",
   "execution_count": 40,
   "metadata": {
    "id": "17KedYBe4bMb"
   },
   "outputs": [],
   "source": [
    "?RandomForestRegressor"
   ]
  },
  {
   "cell_type": "code",
   "execution_count": 41,
   "metadata": {
    "id": "q5dV_Ys_0kLC"
   },
   "outputs": [],
   "source": [
    "df_rf = RandomForestRegressor(random_state=42)"
   ]
  },
  {
   "cell_type": "code",
   "execution_count": 42,
   "metadata": {
    "colab": {
     "base_uri": "https://localhost:8080/"
    },
    "id": "e05_Ngrr0kN6",
    "outputId": "1be11977-13d6-48c2-a66a-331c1accd9f9"
   },
   "outputs": [
    {
     "name": "stdout",
     "output_type": "stream",
     "text": [
      "Wall time: 8min 25s\n"
     ]
    },
    {
     "data": {
      "text/plain": [
       "RandomForestRegressor(random_state=42)"
      ]
     },
     "execution_count": 42,
     "metadata": {},
     "output_type": "execute_result"
    }
   ],
   "source": [
    "%%time\n",
    "df_rf.fit(X_train_bow, y_train)"
   ]
  },
  {
   "cell_type": "code",
   "execution_count": 43,
   "metadata": {
    "id": "nO2xF9HW0kQq"
   },
   "outputs": [],
   "source": [
    "y_train_preds = df_rf.predict(X_train_bow)"
   ]
  },
  {
   "cell_type": "markdown",
   "metadata": {
    "id": "-p6zQSTP1TQb"
   },
   "source": [
    "#7. Model evaluation \n",
    "\n",
    "a. Report the root mean square error \n"
   ]
  },
  {
   "cell_type": "code",
   "execution_count": 44,
   "metadata": {
    "id": "QY638iKg0kTR"
   },
   "outputs": [],
   "source": [
    "from sklearn.metrics import mean_squared_error"
   ]
  },
  {
   "cell_type": "code",
   "execution_count": 45,
   "metadata": {
    "colab": {
     "base_uri": "https://localhost:8080/"
    },
    "id": "r8gbMjXg1bIX",
    "outputId": "c986f3d2-4fac-4031-f707-0ecd78b44cbf"
   },
   "outputs": [
    {
     "data": {
      "text/plain": [
       "0.23720347586757728"
      ]
     },
     "execution_count": 45,
     "metadata": {},
     "output_type": "execute_result"
    }
   ],
   "source": [
    "mean_squared_error(y_train, y_train_preds)**0.5"
   ]
  },
  {
   "cell_type": "markdown",
   "metadata": {
    "id": "MNbwWDSi2hEM"
   },
   "source": [
    "#8. Hyperparameter tuning \n",
    "\n",
    "a. Import GridSearch \n",
    "\n",
    "b. Provide the parameter grid to choose: \n",
    "\n",
    "i. max_features – ‘auto’, ‘sqrt’, ‘log2’ \n",
    "ii. max_depth – 10, 15, 20, 25"
   ]
  },
  {
   "cell_type": "code",
   "execution_count": 107,
   "metadata": {
    "id": "kkc8QDTE1bLC"
   },
   "outputs": [],
   "source": [
    "from sklearn.model_selection import GridSearchCV"
   ]
  },
  {
   "cell_type": "code",
   "execution_count": 108,
   "metadata": {
    "id": "M912feof1bNk"
   },
   "outputs": [],
   "source": [
    "?RandomForestRegressor"
   ]
  },
  {
   "cell_type": "code",
   "execution_count": 109,
   "metadata": {
    "id": "dy1JKDA11bQW"
   },
   "outputs": [],
   "source": [
    "df_rf = RandomForestRegressor(random_state=42)"
   ]
  },
  {
   "cell_type": "code",
   "execution_count": 110,
   "metadata": {
    "id": "ETPdRx3o1bSk"
   },
   "outputs": [],
   "source": [
    "param_grid = {\n",
    "    'max_features': [500, \"auto\", \"sqrt\", \"log2\"],\n",
    "    'max_depth': [10, 15, 20, 25]\n",
    "}"
   ]
  },
  {
   "cell_type": "markdown",
   "metadata": {
    "id": "rYB8K6gu7MiV"
   },
   "source": [
    "#9. Find the parameters with the best mean square error in cross-validation \n",
    "\n",
    "a. Choose the appropriate scoring as the metric for scoring \n",
    "\n",
    "b. Choose stratified 5 fold cross-validation scheme \n",
    "\n",
    "c. Fit on the train set \n"
   ]
  },
  {
   "cell_type": "code",
   "execution_count": 111,
   "metadata": {
    "id": "1p8k1S4j53uT"
   },
   "outputs": [],
   "source": [
    "grid_search = GridSearchCV(estimator = df_rf, param_grid = param_grid, \n",
    "                          cv = 5, n_jobs = -1, verbose = 1, scoring = \"neg_mean_squared_error\" )"
   ]
  },
  {
   "cell_type": "code",
   "execution_count": 112,
   "metadata": {
    "colab": {
     "base_uri": "https://localhost:8080/"
    },
    "id": "vaIXm2CS6E88",
    "outputId": "52d2dfc2-93d7-425f-c9bc-41622e3c664b"
   },
   "outputs": [
    {
     "name": "stdout",
     "output_type": "stream",
     "text": [
      "Fitting 5 folds for each of 16 candidates, totalling 80 fits\n"
     ]
    },
    {
     "data": {
      "text/plain": [
       "GridSearchCV(cv=5, estimator=RandomForestRegressor(random_state=42), n_jobs=-1,\n",
       "             param_grid={'max_depth': [10, 15, 20, 25],\n",
       "                         'max_features': [500, 'auto', 'sqrt', 'log2']},\n",
       "             scoring='neg_mean_squared_error', verbose=1)"
      ]
     },
     "execution_count": 112,
     "metadata": {},
     "output_type": "execute_result"
    }
   ],
   "source": [
    "grid_search.fit(X_train_bow, y_train)"
   ]
  },
  {
   "cell_type": "code",
   "execution_count": 113,
   "metadata": {
    "scrolled": true
   },
   "outputs": [
    {
     "data": {
      "text/plain": [
       "{'mean_fit_time': array([ 10.48074632,  78.51973996,   1.67571206,   0.72672024,\n",
       "         18.79774237, 135.32434287,   3.2526226 ,   1.10087366,\n",
       "         29.76479492, 199.51531873,   4.63069572,   1.54497671,\n",
       "         43.90205503, 205.61706643,   6.11365495,   1.73394737]),\n",
       " 'std_fit_time': array([2.48494897e-01, 1.45608791e+00, 1.04450792e-01, 1.17105633e-02,\n",
       "        6.37011910e-01, 1.75642268e+00, 9.38712452e-02, 3.77185434e-02,\n",
       "        8.57085484e-01, 4.77032221e+00, 6.76238712e-01, 1.80634485e-01,\n",
       "        3.84257242e-01, 1.43813194e+01, 1.81202511e-01, 4.63559083e-02]),\n",
       " 'mean_score_time': array([0.12140474, 0.14440236, 0.09484224, 0.10241532, 0.13433475,\n",
       "        0.12251663, 0.13667274, 0.11253672, 0.14462152, 0.15298152,\n",
       "        0.15525885, 0.12942276, 0.17074323, 0.1095067 , 0.15320096,\n",
       "        0.12945428]),\n",
       " 'std_score_time': array([0.01607599, 0.06723725, 0.00354977, 0.02083302, 0.02219015,\n",
       "        0.00537093, 0.00849338, 0.0047006 , 0.00960824, 0.02608291,\n",
       "        0.03549447, 0.00868568, 0.03161678, 0.03272873, 0.02661191,\n",
       "        0.00603055]),\n",
       " 'param_max_depth': masked_array(data=[10, 10, 10, 10, 15, 15, 15, 15, 20, 20, 20, 20, 25, 25,\n",
       "                    25, 25],\n",
       "              mask=[False, False, False, False, False, False, False, False,\n",
       "                    False, False, False, False, False, False, False, False],\n",
       "        fill_value='?',\n",
       "             dtype=object),\n",
       " 'param_max_features': masked_array(data=[500, 'auto', 'sqrt', 'log2', 500, 'auto', 'sqrt',\n",
       "                    'log2', 500, 'auto', 'sqrt', 'log2', 500, 'auto',\n",
       "                    'sqrt', 'log2'],\n",
       "              mask=[False, False, False, False, False, False, False, False,\n",
       "                    False, False, False, False, False, False, False, False],\n",
       "        fill_value='?',\n",
       "             dtype=object),\n",
       " 'params': [{'max_depth': 10, 'max_features': 500},\n",
       "  {'max_depth': 10, 'max_features': 'auto'},\n",
       "  {'max_depth': 10, 'max_features': 'sqrt'},\n",
       "  {'max_depth': 10, 'max_features': 'log2'},\n",
       "  {'max_depth': 15, 'max_features': 500},\n",
       "  {'max_depth': 15, 'max_features': 'auto'},\n",
       "  {'max_depth': 15, 'max_features': 'sqrt'},\n",
       "  {'max_depth': 15, 'max_features': 'log2'},\n",
       "  {'max_depth': 20, 'max_features': 500},\n",
       "  {'max_depth': 20, 'max_features': 'auto'},\n",
       "  {'max_depth': 20, 'max_features': 'sqrt'},\n",
       "  {'max_depth': 20, 'max_features': 'log2'},\n",
       "  {'max_depth': 25, 'max_features': 500},\n",
       "  {'max_depth': 25, 'max_features': 'auto'},\n",
       "  {'max_depth': 25, 'max_features': 'sqrt'},\n",
       "  {'max_depth': 25, 'max_features': 'log2'}],\n",
       " 'split0_test_score': array([-0.84805792, -0.8797774 , -1.21873038, -1.46601418, -0.68067359,\n",
       "        -0.71735493, -1.06262567, -1.38275701, -0.56964763, -0.60233922,\n",
       "        -0.92435109, -1.30573765, -0.48913115, -0.52429385, -0.81727014,\n",
       "        -1.24249308]),\n",
       " 'split1_test_score': array([-0.83771019, -0.80785244, -1.21582872, -1.47551313, -0.65444803,\n",
       "        -0.64953241, -1.05580533, -1.38368675, -0.53849386, -0.55219975,\n",
       "        -0.9161609 , -1.30492522, -0.45713093, -0.47236955, -0.79742469,\n",
       "        -1.23217209]),\n",
       " 'split2_test_score': array([-0.82450929, -0.81362485, -1.22483994, -1.48621782, -0.64687216,\n",
       "        -0.65762943, -1.05401849, -1.39503427, -0.53220825, -0.56072208,\n",
       "        -0.92064256, -1.31206218, -0.4502666 , -0.48929824, -0.79870079,\n",
       "        -1.2403262 ]),\n",
       " 'split3_test_score': array([-0.77249261, -0.78612728, -1.15251984, -1.39456468, -0.61330314,\n",
       "        -0.64669395, -0.99807807, -1.30220425, -0.51013155, -0.55193671,\n",
       "        -0.86225407, -1.22585946, -0.43676118, -0.48655494, -0.75441706,\n",
       "        -1.15460954]),\n",
       " 'split4_test_score': array([-0.80473447, -0.79873802, -1.20175172, -1.46919791, -0.63530674,\n",
       "        -0.65650155, -1.03550837, -1.3728384 , -0.52472224, -0.5567857 ,\n",
       "        -0.90267622, -1.2916304 , -0.44895519, -0.48781044, -0.78340279,\n",
       "        -1.22382812]),\n",
       " 'mean_test_score': array([-0.8175009 , -0.817224  , -1.20273412, -1.45830154, -0.64612073,\n",
       "        -0.66554246, -1.04120719, -1.36730413, -0.53504071, -0.56479669,\n",
       "        -0.90521697, -1.28804298, -0.45644901, -0.49206541, -0.79024309,\n",
       "        -1.21868581]),\n",
       " 'std_test_score': array([0.02675815, 0.03262651, 0.02622386, 0.03260724, 0.02217091,\n",
       "        0.02623156, 0.02336058, 0.03330095, 0.01972067, 0.01904879,\n",
       "        0.02269845, 0.03179526, 0.01761009, 0.01722049, 0.02089911,\n",
       "        0.03270836]),\n",
       " 'rank_test_score': array([ 9,  8, 12, 16,  5,  6, 11, 15,  3,  4, 10, 14,  1,  2,  7, 13])}"
      ]
     },
     "execution_count": 113,
     "metadata": {},
     "output_type": "execute_result"
    }
   ],
   "source": [
    "grid_search.cv_results_"
   ]
  },
  {
   "cell_type": "code",
   "execution_count": 144,
   "metadata": {},
   "outputs": [
    {
     "data": {
      "text/plain": [
       "[{'max_depth': 10, 'max_features': 500},\n",
       " {'max_depth': 10, 'max_features': 'auto'},\n",
       " {'max_depth': 10, 'max_features': 'sqrt'},\n",
       " {'max_depth': 10, 'max_features': 'log2'},\n",
       " {'max_depth': 15, 'max_features': 500},\n",
       " {'max_depth': 15, 'max_features': 'auto'},\n",
       " {'max_depth': 15, 'max_features': 'sqrt'},\n",
       " {'max_depth': 15, 'max_features': 'log2'},\n",
       " {'max_depth': 20, 'max_features': 500},\n",
       " {'max_depth': 20, 'max_features': 'auto'},\n",
       " {'max_depth': 20, 'max_features': 'sqrt'},\n",
       " {'max_depth': 20, 'max_features': 'log2'},\n",
       " {'max_depth': 25, 'max_features': 500},\n",
       " {'max_depth': 25, 'max_features': 'auto'},\n",
       " {'max_depth': 25, 'max_features': 'sqrt'},\n",
       " {'max_depth': 25, 'max_features': 'log2'}]"
      ]
     },
     "execution_count": 144,
     "metadata": {},
     "output_type": "execute_result"
    }
   ],
   "source": [
    "grid_search.cv_results_['params']"
   ]
  },
  {
   "cell_type": "code",
   "execution_count": 116,
   "metadata": {
    "id": "w_DTClo_6FC2"
   },
   "outputs": [],
   "source": [
    "best_clif = grid_search.best_estimator_"
   ]
  },
  {
   "cell_type": "code",
   "execution_count": 117,
   "metadata": {},
   "outputs": [
    {
     "data": {
      "text/plain": [
       "RandomForestRegressor(max_depth=25, max_features=500, random_state=42)"
      ]
     },
     "execution_count": 117,
     "metadata": {},
     "output_type": "execute_result"
    }
   ],
   "source": [
    "best_clif"
   ]
  },
  {
   "cell_type": "markdown",
   "metadata": {
    "id": "O9aIQNaB7_GT"
   },
   "source": [
    "11. Predict and evaluate using the best estimator \n",
    "\n",
    "a. Use the best estimator from the grid search to make predictions on the test set \n",
    "\n",
    "b. What is the root mean squared error on the test set?"
   ]
  },
  {
   "cell_type": "code",
   "execution_count": 118,
   "metadata": {
    "id": "mwjlQljK6FF7"
   },
   "outputs": [],
   "source": [
    "y_train_pred = best_clif.predict(X_train_bow)"
   ]
  },
  {
   "cell_type": "code",
   "execution_count": 119,
   "metadata": {
    "id": "UYhdvYXf6FIk"
   },
   "outputs": [],
   "source": [
    "y_test_pred = best_clif.predict(X_test_bow)"
   ]
  },
  {
   "cell_type": "code",
   "execution_count": 120,
   "metadata": {
    "id": "RVBG_icl8pFe"
   },
   "outputs": [
    {
     "data": {
      "text/plain": [
       "0.5876681060137491"
      ]
     },
     "execution_count": 120,
     "metadata": {},
     "output_type": "execute_result"
    }
   ],
   "source": [
    "mean_squared_error(y_train, y_train_pred)**0.5"
   ]
  },
  {
   "cell_type": "code",
   "execution_count": 121,
   "metadata": {
    "id": "4SLjnOTD6FLB"
   },
   "outputs": [
    {
     "data": {
      "text/plain": [
       "0.6715338514796404"
      ]
     },
     "execution_count": 121,
     "metadata": {},
     "output_type": "execute_result"
    }
   ],
   "source": [
    "mean_squared_error(y_test, y_test_pred)**0.5"
   ]
  },
  {
   "cell_type": "markdown",
   "metadata": {
    "id": "WJp9XXHJBrxA"
   },
   "source": [
    "12. identify mismatch cases"
   ]
  },
  {
   "cell_type": "code",
   "execution_count": 122,
   "metadata": {
    "id": "CsVvaJgg8qSE"
   },
   "outputs": [],
   "source": [
    "df_res = pd.DataFrame({'review':X_test, 'rating':y_test, 'rating_pred':y_test_pred})"
   ]
  },
  {
   "cell_type": "code",
   "execution_count": 123,
   "metadata": {
    "id": "ksTxCFNs8qUl"
   },
   "outputs": [
    {
     "data": {
      "text/plain": [
       "(8, 3)"
      ]
     },
     "execution_count": 123,
     "metadata": {},
     "output_type": "execute_result"
    }
   ],
   "source": [
    "df_res[(df_res.rating - df_res.rating_pred)>=2].shape"
   ]
  },
  {
   "cell_type": "code",
   "execution_count": 124,
   "metadata": {
    "id": "SMN_pR3e8qXP"
   },
   "outputs": [
    {
     "data": {
      "text/html": [
       "<div>\n",
       "<style scoped>\n",
       "    .dataframe tbody tr th:only-of-type {\n",
       "        vertical-align: middle;\n",
       "    }\n",
       "\n",
       "    .dataframe tbody tr th {\n",
       "        vertical-align: top;\n",
       "    }\n",
       "\n",
       "    .dataframe thead th {\n",
       "        text-align: right;\n",
       "    }\n",
       "</style>\n",
       "<table border=\"1\" class=\"dataframe\">\n",
       "  <thead>\n",
       "    <tr style=\"text-align: right;\">\n",
       "      <th></th>\n",
       "      <th>review</th>\n",
       "      <th>rating</th>\n",
       "      <th>rating_pred</th>\n",
       "    </tr>\n",
       "  </thead>\n",
       "  <tbody>\n",
       "    <tr>\n",
       "      <th>7277</th>\n",
       "      <td>life saviours serving excellent food worst tim...</td>\n",
       "      <td>5.0</td>\n",
       "      <td>2.007670</td>\n",
       "    </tr>\n",
       "    <tr>\n",
       "      <th>1818</th>\n",
       "      <td>value money ordered second time</td>\n",
       "      <td>5.0</td>\n",
       "      <td>2.970624</td>\n",
       "    </tr>\n",
       "    <tr>\n",
       "      <th>4771</th>\n",
       "      <td>not good</td>\n",
       "      <td>5.0</td>\n",
       "      <td>1.998553</td>\n",
       "    </tr>\n",
       "    <tr>\n",
       "      <th>16510</th>\n",
       "      <td>may not polished serving packaging etc never b...</td>\n",
       "      <td>5.0</td>\n",
       "      <td>1.894671</td>\n",
       "    </tr>\n",
       "    <tr>\n",
       "      <th>14845</th>\n",
       "      <td>oh memories place first drink bangalore almost...</td>\n",
       "      <td>5.0</td>\n",
       "      <td>2.628792</td>\n",
       "    </tr>\n",
       "    <tr>\n",
       "      <th>15201</th>\n",
       "      <td>sauce not included</td>\n",
       "      <td>4.0</td>\n",
       "      <td>1.878766</td>\n",
       "    </tr>\n",
       "    <tr>\n",
       "      <th>3165</th>\n",
       "      <td>rice quantity less</td>\n",
       "      <td>5.0</td>\n",
       "      <td>2.844196</td>\n",
       "    </tr>\n",
       "    <tr>\n",
       "      <th>16515</th>\n",
       "      <td>may not polished serving packaging etc never b...</td>\n",
       "      <td>5.0</td>\n",
       "      <td>1.894671</td>\n",
       "    </tr>\n",
       "  </tbody>\n",
       "</table>\n",
       "</div>"
      ],
      "text/plain": [
       "                                                  review  rating  rating_pred\n",
       "7277   life saviours serving excellent food worst tim...     5.0     2.007670\n",
       "1818                     value money ordered second time     5.0     2.970624\n",
       "4771                                            not good     5.0     1.998553\n",
       "16510  may not polished serving packaging etc never b...     5.0     1.894671\n",
       "14845  oh memories place first drink bangalore almost...     5.0     2.628792\n",
       "15201                                 sauce not included     4.0     1.878766\n",
       "3165                                  rice quantity less     5.0     2.844196\n",
       "16515  may not polished serving packaging etc never b...     5.0     1.894671"
      ]
     },
     "execution_count": 124,
     "metadata": {},
     "output_type": "execute_result"
    }
   ],
   "source": [
    "df_res[(df_res.rating - df_res.rating_pred)>=2]"
   ]
  },
  {
   "cell_type": "code",
   "execution_count": null,
   "metadata": {
    "id": "kUXTF7198qZt"
   },
   "outputs": [],
   "source": []
  },
  {
   "cell_type": "code",
   "execution_count": null,
   "metadata": {
    "id": "wunR5RHP8qca"
   },
   "outputs": [],
   "source": []
  },
  {
   "cell_type": "code",
   "execution_count": null,
   "metadata": {
    "id": "ACkxJlsM8qhJ"
   },
   "outputs": [],
   "source": []
  },
  {
   "cell_type": "code",
   "execution_count": null,
   "metadata": {
    "id": "XoPiECrx8qkP"
   },
   "outputs": [],
   "source": []
  },
  {
   "cell_type": "code",
   "execution_count": null,
   "metadata": {
    "id": "epJxuunL8qms"
   },
   "outputs": [],
   "source": []
  }
 ],
 "metadata": {
  "colab": {
   "collapsed_sections": [],
   "name": "Sharadkanoongo-NLP-Mini Project .ipynb",
   "provenance": []
  },
  "kernelspec": {
   "display_name": "Python 3 (ipykernel)",
   "language": "python",
   "name": "python3"
  },
  "language_info": {
   "codemirror_mode": {
    "name": "ipython",
    "version": 3
   },
   "file_extension": ".py",
   "mimetype": "text/x-python",
   "name": "python",
   "nbconvert_exporter": "python",
   "pygments_lexer": "ipython3",
   "version": "3.9.7"
  }
 },
 "nbformat": 4,
 "nbformat_minor": 1
}
